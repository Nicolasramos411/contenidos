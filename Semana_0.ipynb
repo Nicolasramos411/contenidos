{
  "nbformat": 4,
  "nbformat_minor": 0,
  "metadata": {
    "colab": {
      "name": "Semana 0",
      "provenance": [],
      "collapsed_sections": [],
      "include_colab_link": true
    },
    "kernelspec": {
      "name": "python3",
      "display_name": "Python 3"
    }
  },
  "cells": [
    {
      "cell_type": "markdown",
      "metadata": {
        "id": "view-in-github",
        "colab_type": "text"
      },
      "source": [
        "<a href=\"https://colab.research.google.com/github/Nicolasramos411/contenidos/blob/master/Semana_0.ipynb\" target=\"_parent\"><img src=\"https://colab.research.google.com/assets/colab-badge.svg\" alt=\"Open In Colab\"/></a>"
      ]
    },
    {
      "cell_type": "markdown",
      "metadata": {
        "id": "wOCKF4wLyKoa"
      },
      "source": [
        "# Guía de estilo\r\n",
        "**¿Por qué usar una guía de estilo?**\r\n",
        "\r\n",
        " A primera vista el seguir este tipo de reglas puede verse como una restricción o como más trabajo a la hora de programar. Sin embargo, el escribir conscientemente siguiendo una guía de estilo trae muchas ventajas. Específicamente, trae ahorros de tiempo considerables tanto a la hora de escribir código como posterior a su escritura. Es por esto que su uso es una metodología de desarrollo popular en la industria. Distintos equipos reales (como Facebook, Google, etc...) usan distintas guías de estilo, dependiendo de los proyectos y lenguajes ocupados.\r\n",
        "\r\n",
        "A continuación se listan algunas ventajas concretas de usar guías de estilo:\r\n",
        "\r\n",
        "1. El código es más leíble.\r\n",
        "2. Hace el debuggeo más rápido.\r\n",
        "3. Guías claras al escribir código.\r\n",
        "4. Nombres de archivos y variables predecibles.\r\n",
        "\r\n",
        "**Guía de estilo PEP8**\r\n",
        "\r\n",
        "En IIC2233 utilzaremos solo un subconjunto de reglas de PEP8 para escribir nuestro código. Estas reglas son las siguientes:\r\n",
        "\r\n",
        "1. Snakecase: Se debe aplicar ’’ para frases y minúsculas. Para **TODO** menos clases.\r\n",
        "Ejemplo: primer_jugador\r\n",
        "\r\n",
        "2. CamelCase: Se debe aplicar mayúsculas y sin espacios para objetos.\r\n",
        "Ejemplo: PerroAmigable3.\r\n",
        "\r\n",
        "3. Nombres descriptivos: Para un código mas legible preferir \"*índice*\" en vez de \"i\".\r\n",
        "Ejemplo: for **indice** in range()\r\n",
        "\r\n",
        "4. Imports al comienzo del archivo.\r\n",
        "\r\n",
        "5. Un espacio después de “,” .\r\n",
        "\r\n",
        "6. Espacios a cada lado de operadores.\r\n"
      ]
    },
    {
      "cell_type": "code",
      "metadata": {
        "colab": {
          "base_uri": "https://localhost:8080/"
        },
        "id": "ZGKwfOAV4lwS",
        "outputId": "6384c11d-3d55-486c-ca37-261dcd40725e"
      },
      "source": [
        "print('Hello World!')"
      ],
      "execution_count": null,
      "outputs": [
        {
          "output_type": "stream",
          "text": [
            "Hello World!\n"
          ],
          "name": "stdout"
        }
      ]
    }
  ]
}